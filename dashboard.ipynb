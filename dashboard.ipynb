{
 "cells": [
  {
   "cell_type": "markdown",
   "metadata": {},
   "source": [
    "This notebook is released under the [GNU GPLv3.0 or later](https://www.gnu.org/licenses/)."
   ]
  },
  {
   "cell_type": "markdown",
   "metadata": {},
   "source": [
    "# DIY Covid-19 Dashboard"
   ]
  },
  {
   "cell_type": "markdown",
   "metadata": {},
   "source": [
    "**Student Name: Muhammad Ibad Desmukh**<br>\n",
    "**Student ID: 230460524**\n",
    "\n",
    "The following code implements a Covid-19 Dashboard which accesses data from Public Health England (PHE) which is one of many Institutions worldwide running a Coronavirus dashboard, with current statistics on the pandemic. The main endpoint to download data related to Coronavirus in the UK is https://api.coronavirus.data.gov.uk/v1/data.\n",
    "\n",
    "**NOTE: The dashboard only shows data for periods where both 1st Dose and 2nd dose vaccination data is available.**<br>\n",
    "\n",
    "The dashboard provides data for 1) Cumulative people vaccinated 1st dose by publish date and 2) Cumulative people vaccinated 2nd dose by publish date. It allows the user to see the trend in vaccinations, and compare the trend in vaccinations between the 1st dose and the 2nd dose, in the form of a graph.\n",
    "\n",
    "**Cumulative people vaccinated 1st dose by publish date**<br>\n",
    "Total number of people that have received a 2nd dose COVID-19 vaccination. Data are shown by the date the figures appeared in the published totals.\n",
    "\n",
    "Daily figures include all vaccines that were given up to and including the date shown, and that were entered on the relevant system at the time of extract.\n",
    "\n",
    "It is possible that the number of people vaccinated in surveillance figures may reduce over time, due to people dying or moving out of a resident population.\n",
    "\n",
    "The vaccination programme began on 8 December 2020.\n",
    "\n",
    "**Cumulative people vaccinated 2nd dose by publish date**<br>\n",
    "Total number of people that have received a 2nd dose COVID-19 vaccination. Data are shown by the date the figures appeared in the published totals."
   ]
  },
  {
   "cell_type": "code",
   "execution_count": 1,
   "metadata": {},
   "outputs": [
    {
     "data": {
      "application/vnd.jupyter.widget-view+json": {
       "model_id": "6b1ed9cfacdc418aa8eebbf6cc406728",
       "version_major": 2,
       "version_minor": 0
      },
      "text/plain": [
       "Button(description='Refresh data', icon='download', style=ButtonStyle(), tooltip='Click to download current Pu…"
      ]
     },
     "metadata": {},
     "output_type": "display_data"
    },
    {
     "data": {
      "application/vnd.jupyter.widget-view+json": {
       "model_id": "0b893552efbd40d9bab4545cc30c6571",
       "version_major": 2,
       "version_minor": 0
      },
      "text/plain": [
       "Label(value='')"
      ]
     },
     "metadata": {},
     "output_type": "display_data"
    },
    {
     "data": {
      "application/vnd.jupyter.widget-view+json": {
       "model_id": "ad903651cfb64ccabcf64e83734b942d",
       "version_major": 2,
       "version_minor": 0
      },
      "text/plain": [
       "SelectMultiple(index=(0,), layout=Layout(width='auto'), options=(('Cumulative people vaccinated 1st dose by pu…"
      ]
     },
     "metadata": {},
     "output_type": "display_data"
    },
    {
     "data": {
      "application/vnd.jupyter.widget-view+json": {
       "model_id": "42e7a4b3904e4f108b966956fb3703c6",
       "version_major": 2,
       "version_minor": 0
      },
      "text/plain": [
       "Output()"
      ]
     },
     "metadata": {},
     "output_type": "display_data"
    },
    {
     "data": {
      "text/plain": [
       "('vaccinationsFirst',)"
      ]
     },
     "execution_count": 1,
     "metadata": {},
     "output_type": "execute_result"
    }
   ],
   "source": [
    "# import all relevant libraries and modules\n",
    "from IPython.display import clear_output\n",
    "import ipywidgets as wdg\n",
    "import pandas as pd\n",
    "import numpy as np\n",
    "import matplotlib.pyplot as plt\n",
    "import json\n",
    "from uk_covid19 import Cov19API\n",
    "from ipywidgets import Layout\n",
    "\n",
    "# customize the display features of the plot\n",
    "%matplotlib inline\n",
    "plt.rcParams['figure.dpi'] = 100\n",
    "\n",
    "# open the pre-saved initial json file \n",
    "with open(\"vaccinations.json\", \"rt\") as INFILE:\n",
    "    jsondata=json.load(INFILE)\n",
    "\n",
    "def wrangle_data(rawdata):\n",
    "    # retrieve the list of dictionaries under the data key\n",
    "    datalist=rawdata['data']\n",
    "\n",
    "    # extract all the dates and sort them\n",
    "    dates=[dictionary['date'] for dictionary in datalist]\n",
    "    dates.sort()\n",
    "    def parse_date(datestring):\n",
    "        # Convert from date string to pandas datetime object\n",
    "        return pd.to_datetime(datestring, format=\"%Y-%m-%d\")\n",
    "    startdate=parse_date(dates[0])\n",
    "    enddate=parse_date(dates[-1])\n",
    "\n",
    "    # define the dataframe\n",
    "    index=pd.date_range(startdate, enddate, freq='D')\n",
    "    df=pd.DataFrame(index=index, columns=['vaccinationsFirst', 'vaccinationsSecond'])\n",
    "\n",
    "    # replace None values with 0\n",
    "    for entry in datalist:\n",
    "        date=parse_date(entry['date'])\n",
    "        for column in ['vaccinationsFirst', 'vaccinationsSecond']:\n",
    "            if pd.isna(df.loc[date, column]): \n",
    "                value= float(entry[column]) if entry[column]!=None else 0.0\n",
    "                df.loc[date, column]=value\n",
    "\n",
    "    # ensure that all NaN or None values are set to 0 in case any are missed\n",
    "    df.fillna(0.0, inplace=True)\n",
    "\n",
    "    # only include datapoints where data for both first dose and second dose of vaccination is available\n",
    "    df = df[(df['vaccinationsFirst'] != 0) & \n",
    "        (df['vaccinationsSecond'] != 0)]\n",
    "    \n",
    "    return df\n",
    "\n",
    "# assign the dataframe that is returned by wrangle_data to the variable 'df'\n",
    "df=wrangle_data(jsondata)\n",
    "\n",
    "# function to access the API\n",
    "def access_api():\n",
    "    # defining a filter - this is a list specifiying an areaType parameter and an optional areaName, areaCode and date parameters\n",
    "    filters = [\n",
    "    'areaType=nation',\n",
    "    'areaName=England'\n",
    "    ]\n",
    "\n",
    "    # values here are the names of the PHE metrics\n",
    "    structure = {\n",
    "    \"date\": \"date\",\n",
    "    \"vaccinationsFirst\": \"cumPeopleVaccinatedFirstDoseByPublishDate\",\n",
    "    \"vaccinationsSecond\": \"cumPeopleVaccinatedSecondDoseByPublishDate\"\n",
    "    }\n",
    "\n",
    "    # create a Cov19API object by passing the filters and structure to its constructor\n",
    "    api = Cov19API(filters=filters, structure=structure)\n",
    "    # sends request to  API and retrieves the response\n",
    "    jsondata=api.get_json()\n",
    "    \n",
    "    # write it to the json file\n",
    "    with open(\"vaccinations.json\", \"wt\") as OUTF:\n",
    "        json.dump(jsondata, OUTF)\n",
    "    \n",
    "    return jsondata\n",
    "\n",
    "# button callback function\n",
    "def api_button_callback(button):\n",
    "    try:\n",
    "        # accesses the API and download some fresh raw data\n",
    "        apidata=access_api()\n",
    "        # wrangle that data into a dataframe and update the corresponding (global) variable for plotting (here, df)\n",
    "        global df\n",
    "        df=wrangle_data(apidata)\n",
    "        apibutton.icon=\"check\"\n",
    "        apibutton.disabled=True\n",
    "        # force a redraw of the graph and give the user some feedback\n",
    "        refresh_graph()\n",
    "    # if there is an error, give feedback to user by changing icon and description\n",
    "    except:\n",
    "        apibutton.icon='unlink'\n",
    "        apibutton.description='Unavailable'\n",
    "\n",
    "# create a refresh data button\n",
    "apibutton=wdg.Button(\n",
    "    description='Refresh data',\n",
    "    disabled=False,\n",
    "    button_style='',\n",
    "    tooltip='Click to download current Public Health England data',\n",
    "    icon='download'\n",
    ")\n",
    "\n",
    "apibutton.on_click(api_button_callback)\n",
    "\n",
    "display(apibutton)\n",
    "\n",
    "# create a label to provide messages to user\n",
    "message_label = wdg.Label()\n",
    "\n",
    "# create a multiple selection widget\n",
    "vacc_cols=wdg.SelectMultiple(\n",
    "    options=[\n",
    "        ('Cumulative people vaccinated 1st dose by publish date', 'vaccinationsFirst'), \n",
    "        ('Cumulative people vaccinated 2nd dose by publish date', 'vaccinationsSecond')\n",
    "    ],\n",
    "    value=['vaccinationsFirst'],\n",
    "    rows=3,\n",
    "    disabled=False,\n",
    "    layout=Layout(width='auto')\n",
    ")\n",
    "\n",
    "# function for generating graph\n",
    "def vacc_graph(graphcolumns):\n",
    "    ncols=len(graphcolumns)\n",
    "    try: \n",
    "        if ncols>0:\n",
    "            df.plot(kind='line', y=list(graphcolumns)) \n",
    "            plt.show()\n",
    "        else:\n",
    "            message_label.value='Click to select data for graph'\n",
    "    # if there is any problem with the data, and it cannot be displayed show error\n",
    "    except:\n",
    "        message_label.value='Downloaded data could not be displayed due to an error'\n",
    "\n",
    "# refresh the graph by automatically changing the user selection\n",
    "def refresh_graph():\n",
    "    vacc_graph(vacc_cols.value)\n",
    "    message_label.value = 'The figure has been updated to reflect refreshed data.'\n",
    "\n",
    "# generate graph with columns as per the multiple selection widget\n",
    "output=wdg.interactive_output(vacc_graph, {'graphcolumns': vacc_cols})\n",
    "display(message_label, vacc_cols, output)\n",
    "vacc_cols.value"
   ]
  },
  {
   "cell_type": "markdown",
   "metadata": {},
   "source": [
    "The graph shows a comparison of Cumulative people vaccinated 1st dose by publish date and Cumulative people vaccinated 2nd dose by publish date. Select one or both options to see "
   ]
  },
  {
   "cell_type": "markdown",
   "metadata": {},
   "source": [
    "**Author and Copyright Notice** Based on UK Government [data](https://coronavirus.data.gov.uk/) published by [Public Health England](https://www.gov.uk/government/organisations/public-health-england) and on the [DIY Covid Dashboard Kit](https://github.com/fsmeraldi/diy-covid19dash), Copyright (C) Fabrizio Smeraldi 2020,2023. Released under the [GNU GPLv3.0 or later](https://www.gnu.org/licenses/)."
   ]
  }
 ],
 "metadata": {
  "kernelspec": {
   "display_name": "Python 3 (ipykernel)",
   "language": "python",
   "name": "python3"
  },
  "language_info": {
   "codemirror_mode": {
    "name": "ipython",
    "version": 3
   },
   "file_extension": ".py",
   "mimetype": "text/x-python",
   "name": "python",
   "nbconvert_exporter": "python",
   "pygments_lexer": "ipython3",
   "version": "3.10.13"
  }
 },
 "nbformat": 4,
 "nbformat_minor": 4
}
